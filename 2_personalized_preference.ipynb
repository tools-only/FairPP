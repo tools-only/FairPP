{
 "cells": [
  {
   "cell_type": "code",
   "execution_count": null,
   "id": "34e41ed7-1cfe-493f-b48f-436e27d05a65",
   "metadata": {},
   "outputs": [],
   "source": [
    "import os\n",
    "import json\n",
    "import numpy as np\n",
    "import pandas as pd\n",
    "\n",
    "import openai\n",
    "openai.api_key = \"Your Openai API key\""
   ]
  },
  {
   "cell_type": "code",
   "execution_count": null,
   "id": "f06f32c2-df19-4505-814b-383b66fd8890",
   "metadata": {},
   "outputs": [],
   "source": [
    "Progressive_Activists = 'Please act as one of Progressive Activists, you are highly-educated, urban. You think globally and are motivated to fight inequality and injustice. Your sense of personal identity is connected to their strong political and social beliefs. You are supporter of Labour and like to take part in debates and have your voice heard.'\n",
    "Civic_Pragmatists = 'Pleases act as one of Civic Pragmatists, you are well-informed about issues and often have clear opinions, but your social and political beliefs are generally not central to your sense of personal identity. You stand out for the strength of your commitment to others, and you show strong support for civic values and community, consensus, and compromise. You feel exhausted by the division in politics.' \n",
    "Disengaged_Battlers = 'Pleases act as one of Disengaged Battlers, you are focused on the everyday struggle for survival. You have work, but often it is insecure or involves irregular hours. You tend to feel disconnected from other people, and many say you have given up on the system altogether. You are less connected to others in their local area as well, and are the only group where a majority felt that you have been alone during the Covid-19 pandemic. Although life is tough for you, you blame the system, not other people.'\n",
    "Established_Liberals = 'Pleases act as one of Established Liberals, you are educated, comfortable, and quite wealthy, who feel at ease in your own skin – as well as the country you live in. You tend to trust the government, institutions, and those around you. You are almost twice as likely than any other group to feel that your voices are represented in politics. You are also most likely to believe that people can change society if they work together. You think compromise is important, feel that diversity enriches society and think society should be more globally-oriented.'\n",
    "Loyal_Nationals = 'Pleases act as one of Loyal Nationals, you feel proud of your country and patriotic about its history and past achievements. You also feel anxious about threats to our society, in the face of which you believe we need to come together and pursue our national self-interest. You carry a deep strain of frustration at having your views and values excluded by decision-makers. You feel disrespected by educated elites, and feel more generally that others’ interests are often put ahead of yours. You believe we live in a dog-eat-dog world, and that the society is often naive in its dealing with other countries.'\n",
    "Disengaged_Traditionalists = 'Pleases act as one of Disengaged Traditionalists, you value a feeling of self-reliance and take pride in a hard day’s work. You believe in a well-ordered society and put a strong priority on issues of crime and justice. When thinking about social and political debates, you often consider issues through a lens of suspicion towards others’ behaviour and observance of social rules. While you do have viewpoints on issues, you tend to pay limited attention to public debates.'\n",
    "Backbone_Conservatives = 'Pleases act as one of Backbone Conservatives, you are confident of your nation’s place in the world. You are more prosperous than others. You are nostalgic about your country’s history, cultural heritage, and the monarchy, but looking to the future you think that the country is going in the right direction. You are very interested in social and political issues, follow the news closely, and are stalwart supporters of the Conservative Party. You are negative on immigration, less concerned about racism, more supportive of public spending cuts.'\n",
    "total = [Progressive_Activists, Civic_Pragmatists, Disengaged_Battlers, Established_Liberals, Loyal_Nationals, Disengaged_Traditionalists, Backbone_Conservatives]"
   ]
  },
  {
   "cell_type": "code",
   "execution_count": null,
   "id": "d3065570-79dd-4433-a157-7ce4bcea9b4a",
   "metadata": {},
   "outputs": [],
   "source": [
    "file_path = './Fair-PP.csv' # or Fair-PP_simulation.csv for case study II in the paper\n",
    "df = pd.read_csv(file_path)\n",
    "\n",
    "prefix = \"\\nDirectly answer 'A' or 'B' without explanation.\"\n",
    "model='gpt-4o-mini'\n",
    "for index, row in df.iterrows():\n",
    "    for role_index, role in enumerate(total):\n",
    "        try:\n",
    "            completion = openai.chat.completions.create(\n",
    "                model='gpt-4o-mini',\n",
    "                messages=[\n",
    "                    {\"role\": \"system\", \"content\": role},\n",
    "                    {\n",
    "                        \"role\": \"user\",\n",
    "                        \"content\": question + prefix,\n",
    "                    },\n",
    "                ],\n",
    "            )\n",
    "            df.at[index, f'{model}_role_{role_index + 1}'] = completion.choices[0].message.content\n",
    "        except:\n",
    "            continue\n",
    "\n",
    "    if index % 1000 == 0:\n",
    "        df.to_csv('Fair-PP.csv', index=False)\n",
    "df.to_csv('Fair-PP.csv', index=False) # or Fair-PP_simulation"
   ]
  },
  {
   "cell_type": "code",
   "execution_count": null,
   "id": "f6d926ee-f5b6-46ca-bac2-31590a2824a8",
   "metadata": {},
   "outputs": [],
   "source": [
    "for index, row in df.iterrows():\n",
    "    for role_index, role in enumerate(total):\n",
    "        if test == 'simulation':\n",
    "            value = df.at[index, f'{base}_role_{role_index + 1}_simulation']\n",
    "        else:\n",
    "            value = df.at[index, f'{base}_role_{role_index + 1}']\n",
    "\n",
    "        if pd.isna(value):\n",
    "            value = 'C'\n",
    "        if 'A.' in value or 'A' == value:\n",
    "            df.at[index, f'{base}_role_{role_index + 1}_answer'] = 0\n",
    "        elif 'B.' in value or 'B' == value:\n",
    "            df.at[index, f'{base}_role_{role_index + 1}_answer'] = 1\n",
    "        elif 'C.' in value or 'C' == value:\n",
    "            df.at[index, f'{base}_role_{role_index + 1}_answer'] = 2\n",
    "        else:\n",
    "            df.at[index, f'{base}_role_{role_index + 1}_answer'] = 2\n",
    "\n",
    "df.to_csv('Fair-PP.csv', index=False) # or Fair-PP_simulation"
   ]
  }
 ],
 "metadata": {
  "kernelspec": {
   "display_name": "Python 3 (ipykernel)",
   "language": "python",
   "name": "python3"
  },
  "language_info": {
   "codemirror_mode": {
    "name": "ipython",
    "version": 3
   },
   "file_extension": ".py",
   "mimetype": "text/x-python",
   "name": "python",
   "nbconvert_exporter": "python",
   "pygments_lexer": "ipython3",
   "version": "3.12.3"
  }
 },
 "nbformat": 4,
 "nbformat_minor": 5
}
