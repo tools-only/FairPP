{
 "cells": [
  {
   "cell_type": "code",
   "execution_count": 1,
   "id": "1727c478-2b2c-41fc-add7-5617c8edcefa",
   "metadata": {},
   "outputs": [],
   "source": [
    "import os\n",
    "import math\n",
    "import numpy as np\n",
    "import pandas as pd\n",
    "\n",
    "from scipy.spatial.distance import jensenshannon"
   ]
  },
  {
   "cell_type": "code",
   "execution_count": null,
   "id": "f2b897f1-72ed-445c-9f12-f7a160b79d30",
   "metadata": {},
   "outputs": [],
   "source": [
    "models = ['Falcon3-7B-Instruct', 'Llama-3.2-3B-Instruct', 'Llama-3.1-8B-Instruct', \n",
    "          'llama3.1-8b-cpt-sea-lionv3-instruct', 'Mistral-7B-Instruct', 'Qwen2.5-7B-Instruct']"
   ]
  },
  {
   "cell_type": "code",
   "execution_count": null,
   "id": "7b41132d-23ae-464b-8227-d05dc8b1ce29",
   "metadata": {},
   "outputs": [],
   "source": [
    "df = pd.read_csv(\"Fair-PP_test.csv\") # or directly get our dataset at https://huggingface.co/datasets/tools-o/Fair-PP"
   ]
  },
  {
   "cell_type": "code",
   "execution_count": null,
   "id": "23f9fd7f-54c7-4882-b1b9-65ef27bf5aa0",
   "metadata": {},
   "outputs": [],
   "source": [
    "def calculate_js_distances(df, model):\n",
    "    role_columns = [f'gpt-4o-mini_role_{i}_answer' for i in range(1, 8)]\n",
    "    role_columns.append(f'{model}_answer')\n",
    "    distributions = {}\n",
    "    for col in role_columns:\n",
    "        counts = df[col].value_counts(normalize=True).reindex([0, 1, 2], fill_value=0)\n",
    "        distributions[col] = counts.values\n",
    "    \n",
    "    n_roles = len(role_columns)\n",
    "    js_distances = np.zeros((n_roles, n_roles))\n",
    "    \n",
    "    for i in range(n_roles):\n",
    "        for j in range(n_roles):\n",
    "            if i <= j:\n",
    "                js_dist = jensenshannon(distributions[role_columns[i]], \n",
    "                                      distributions[role_columns[j]])\n",
    "                js_distances[i, j] = js_dist\n",
    "                js_distances[j, i] = js_dist\n",
    "\n",
    "    result_df = pd.DataFrame(js_distances, \n",
    "                           index=[f'role_{i+1}' for i in range(8)],\n",
    "                           columns=[f'role_{i+1}' for i in range(8)])\n",
    "    \n",
    "    return result_df\n",
    "\n",
    "for model in models:\n",
    "    result = calculate_js_distances(df, model)\n",
    "    print(model, result)"
   ]
  }
 ],
 "metadata": {
  "kernelspec": {
   "display_name": "Python 3 (ipykernel)",
   "language": "python",
   "name": "python3"
  },
  "language_info": {
   "codemirror_mode": {
    "name": "ipython",
    "version": 3
   },
   "file_extension": ".py",
   "mimetype": "text/x-python",
   "name": "python",
   "nbconvert_exporter": "python",
   "pygments_lexer": "ipython3",
   "version": "3.12.3"
  }
 },
 "nbformat": 4,
 "nbformat_minor": 5
}
